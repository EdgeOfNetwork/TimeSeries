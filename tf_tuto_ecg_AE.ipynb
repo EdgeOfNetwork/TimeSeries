{
 "cells": [
  {
   "cell_type": "code",
   "execution_count": 1,
   "metadata": {
    "colab": {
     "base_uri": "https://localhost:8080/"
    },
    "executionInfo": {
     "elapsed": 14775,
     "status": "ok",
     "timestamp": 1625821387428,
     "user": {
      "displayName": "이서영",
      "photoUrl": "",
      "userId": "08706917529998634867"
     },
     "user_tz": -540
    },
    "id": "rS-UepbLgVCl",
    "outputId": "8848452a-8b4d-42fc-be16-f329f3b7d640"
   },
   "outputs": [
    {
     "name": "stdout",
     "output_type": "stream",
     "text": [
      "Mounted at /content/drive\n"
     ]
    }
   ],
   "source": [
    "from google.colab import drive\n",
    "drive.mount('/content/drive')"
   ]
  },
  {
   "cell_type": "code",
   "execution_count": 6,
   "metadata": {
    "executionInfo": {
     "elapsed": 918,
     "status": "ok",
     "timestamp": 1625822190563,
     "user": {
      "displayName": "이서영",
      "photoUrl": "",
      "userId": "08706917529998634867"
     },
     "user_tz": -540
    },
    "id": "a7zW4aX6gahp"
   },
   "outputs": [],
   "source": [
    "import matplotlib.pyplot as plt\n",
    "import numpy as np\n",
    "import pandas as pd\n",
    "import tensorflow as tf\n",
    "\n",
    "from sklearn.metrics import accuracy_score, precision_score, recall_score\n",
    "from sklearn.model_selection import train_test_split\n",
    "from tensorflow.keras import layers, losses\n",
    "from tensorflow.keras.datasets import fashion_mnist\n",
    "from tensorflow.keras.models import Model"
   ]
  },
  {
   "cell_type": "code",
   "execution_count": 7,
   "metadata": {
    "colab": {
     "base_uri": "https://localhost:8080/",
     "height": 253
    },
    "executionInfo": {
     "elapsed": 415,
     "status": "ok",
     "timestamp": 1625822190975,
     "user": {
      "displayName": "이서영",
      "photoUrl": "",
      "userId": "08706917529998634867"
     },
     "user_tz": -540
    },
    "id": "VD9TN7zTgH6R",
    "outputId": "c7ea0893-081c-41a1-9258-e57d168f5402"
   },
   "outputs": [
    {
     "data": {
      "text/html": [
       "<div>\n",
       "<style scoped>\n",
       "    .dataframe tbody tr th:only-of-type {\n",
       "        vertical-align: middle;\n",
       "    }\n",
       "\n",
       "    .dataframe tbody tr th {\n",
       "        vertical-align: top;\n",
       "    }\n",
       "\n",
       "    .dataframe thead th {\n",
       "        text-align: right;\n",
       "    }\n",
       "</style>\n",
       "<table border=\"1\" class=\"dataframe\">\n",
       "  <thead>\n",
       "    <tr style=\"text-align: right;\">\n",
       "      <th></th>\n",
       "      <th>0</th>\n",
       "      <th>1</th>\n",
       "      <th>2</th>\n",
       "      <th>3</th>\n",
       "      <th>4</th>\n",
       "      <th>5</th>\n",
       "      <th>6</th>\n",
       "      <th>7</th>\n",
       "      <th>8</th>\n",
       "      <th>9</th>\n",
       "      <th>10</th>\n",
       "      <th>11</th>\n",
       "      <th>12</th>\n",
       "      <th>13</th>\n",
       "      <th>14</th>\n",
       "      <th>15</th>\n",
       "      <th>16</th>\n",
       "      <th>17</th>\n",
       "      <th>18</th>\n",
       "      <th>19</th>\n",
       "      <th>20</th>\n",
       "      <th>21</th>\n",
       "      <th>22</th>\n",
       "      <th>23</th>\n",
       "      <th>24</th>\n",
       "      <th>25</th>\n",
       "      <th>26</th>\n",
       "      <th>27</th>\n",
       "      <th>28</th>\n",
       "      <th>29</th>\n",
       "      <th>30</th>\n",
       "      <th>31</th>\n",
       "      <th>32</th>\n",
       "      <th>33</th>\n",
       "      <th>34</th>\n",
       "      <th>35</th>\n",
       "      <th>36</th>\n",
       "      <th>37</th>\n",
       "      <th>38</th>\n",
       "      <th>39</th>\n",
       "      <th>...</th>\n",
       "      <th>101</th>\n",
       "      <th>102</th>\n",
       "      <th>103</th>\n",
       "      <th>104</th>\n",
       "      <th>105</th>\n",
       "      <th>106</th>\n",
       "      <th>107</th>\n",
       "      <th>108</th>\n",
       "      <th>109</th>\n",
       "      <th>110</th>\n",
       "      <th>111</th>\n",
       "      <th>112</th>\n",
       "      <th>113</th>\n",
       "      <th>114</th>\n",
       "      <th>115</th>\n",
       "      <th>116</th>\n",
       "      <th>117</th>\n",
       "      <th>118</th>\n",
       "      <th>119</th>\n",
       "      <th>120</th>\n",
       "      <th>121</th>\n",
       "      <th>122</th>\n",
       "      <th>123</th>\n",
       "      <th>124</th>\n",
       "      <th>125</th>\n",
       "      <th>126</th>\n",
       "      <th>127</th>\n",
       "      <th>128</th>\n",
       "      <th>129</th>\n",
       "      <th>130</th>\n",
       "      <th>131</th>\n",
       "      <th>132</th>\n",
       "      <th>133</th>\n",
       "      <th>134</th>\n",
       "      <th>135</th>\n",
       "      <th>136</th>\n",
       "      <th>137</th>\n",
       "      <th>138</th>\n",
       "      <th>139</th>\n",
       "      <th>140</th>\n",
       "    </tr>\n",
       "  </thead>\n",
       "  <tbody>\n",
       "    <tr>\n",
       "      <th>0</th>\n",
       "      <td>-0.112522</td>\n",
       "      <td>-2.827204</td>\n",
       "      <td>-3.773897</td>\n",
       "      <td>-4.349751</td>\n",
       "      <td>-4.376041</td>\n",
       "      <td>-3.474986</td>\n",
       "      <td>-2.181408</td>\n",
       "      <td>-1.818287</td>\n",
       "      <td>-1.250522</td>\n",
       "      <td>-0.477492</td>\n",
       "      <td>-0.363808</td>\n",
       "      <td>-0.491957</td>\n",
       "      <td>-0.421855</td>\n",
       "      <td>-0.309201</td>\n",
       "      <td>-0.495939</td>\n",
       "      <td>-0.342119</td>\n",
       "      <td>-0.355336</td>\n",
       "      <td>-0.367913</td>\n",
       "      <td>-0.316503</td>\n",
       "      <td>-0.412374</td>\n",
       "      <td>-0.471672</td>\n",
       "      <td>-0.413458</td>\n",
       "      <td>-0.364617</td>\n",
       "      <td>-0.449298</td>\n",
       "      <td>-0.471419</td>\n",
       "      <td>-0.424777</td>\n",
       "      <td>-0.462517</td>\n",
       "      <td>-0.552472</td>\n",
       "      <td>-0.475375</td>\n",
       "      <td>-0.694200</td>\n",
       "      <td>-0.701868</td>\n",
       "      <td>-0.593812</td>\n",
       "      <td>-0.660684</td>\n",
       "      <td>-0.713831</td>\n",
       "      <td>-0.769807</td>\n",
       "      <td>-0.672282</td>\n",
       "      <td>-0.653676</td>\n",
       "      <td>-0.639406</td>\n",
       "      <td>-0.559302</td>\n",
       "      <td>-0.591670</td>\n",
       "      <td>...</td>\n",
       "      <td>1.258179</td>\n",
       "      <td>1.433789</td>\n",
       "      <td>1.700533</td>\n",
       "      <td>1.999043</td>\n",
       "      <td>2.125341</td>\n",
       "      <td>1.993291</td>\n",
       "      <td>1.932246</td>\n",
       "      <td>1.797437</td>\n",
       "      <td>1.522284</td>\n",
       "      <td>1.251168</td>\n",
       "      <td>0.998730</td>\n",
       "      <td>0.483722</td>\n",
       "      <td>0.023132</td>\n",
       "      <td>-0.194914</td>\n",
       "      <td>-0.220917</td>\n",
       "      <td>-0.243737</td>\n",
       "      <td>-0.254695</td>\n",
       "      <td>-0.291136</td>\n",
       "      <td>-0.256490</td>\n",
       "      <td>-0.227874</td>\n",
       "      <td>-0.322423</td>\n",
       "      <td>-0.289286</td>\n",
       "      <td>-0.318170</td>\n",
       "      <td>-0.363654</td>\n",
       "      <td>-0.393456</td>\n",
       "      <td>-0.266419</td>\n",
       "      <td>-0.256823</td>\n",
       "      <td>-0.288694</td>\n",
       "      <td>-0.162338</td>\n",
       "      <td>0.160348</td>\n",
       "      <td>0.792168</td>\n",
       "      <td>0.933541</td>\n",
       "      <td>0.796958</td>\n",
       "      <td>0.578621</td>\n",
       "      <td>0.257740</td>\n",
       "      <td>0.228077</td>\n",
       "      <td>0.123431</td>\n",
       "      <td>0.925286</td>\n",
       "      <td>0.193137</td>\n",
       "      <td>1.0</td>\n",
       "    </tr>\n",
       "    <tr>\n",
       "      <th>1</th>\n",
       "      <td>-1.100878</td>\n",
       "      <td>-3.996840</td>\n",
       "      <td>-4.285843</td>\n",
       "      <td>-4.506579</td>\n",
       "      <td>-4.022377</td>\n",
       "      <td>-3.234368</td>\n",
       "      <td>-1.566126</td>\n",
       "      <td>-0.992258</td>\n",
       "      <td>-0.754680</td>\n",
       "      <td>0.042321</td>\n",
       "      <td>0.148951</td>\n",
       "      <td>0.183527</td>\n",
       "      <td>0.294876</td>\n",
       "      <td>0.190233</td>\n",
       "      <td>0.235575</td>\n",
       "      <td>0.253487</td>\n",
       "      <td>0.221742</td>\n",
       "      <td>0.050233</td>\n",
       "      <td>0.178042</td>\n",
       "      <td>0.139563</td>\n",
       "      <td>0.046794</td>\n",
       "      <td>0.043007</td>\n",
       "      <td>0.106544</td>\n",
       "      <td>0.012654</td>\n",
       "      <td>0.003995</td>\n",
       "      <td>0.045724</td>\n",
       "      <td>-0.045999</td>\n",
       "      <td>-0.072667</td>\n",
       "      <td>-0.071078</td>\n",
       "      <td>-0.153866</td>\n",
       "      <td>-0.227254</td>\n",
       "      <td>-0.249270</td>\n",
       "      <td>-0.253489</td>\n",
       "      <td>-0.332835</td>\n",
       "      <td>-0.264330</td>\n",
       "      <td>-0.345825</td>\n",
       "      <td>-0.310781</td>\n",
       "      <td>-0.334160</td>\n",
       "      <td>-0.306178</td>\n",
       "      <td>-0.174563</td>\n",
       "      <td>...</td>\n",
       "      <td>1.808428</td>\n",
       "      <td>2.164346</td>\n",
       "      <td>2.070747</td>\n",
       "      <td>1.903614</td>\n",
       "      <td>1.764455</td>\n",
       "      <td>1.507769</td>\n",
       "      <td>1.293428</td>\n",
       "      <td>0.894562</td>\n",
       "      <td>0.578016</td>\n",
       "      <td>0.244343</td>\n",
       "      <td>-0.286443</td>\n",
       "      <td>-0.515881</td>\n",
       "      <td>-0.732707</td>\n",
       "      <td>-0.832465</td>\n",
       "      <td>-0.803318</td>\n",
       "      <td>-0.836252</td>\n",
       "      <td>-0.777865</td>\n",
       "      <td>-0.774753</td>\n",
       "      <td>-0.733404</td>\n",
       "      <td>-0.721386</td>\n",
       "      <td>-0.832095</td>\n",
       "      <td>-0.711982</td>\n",
       "      <td>-0.751867</td>\n",
       "      <td>-0.757720</td>\n",
       "      <td>-0.853120</td>\n",
       "      <td>-0.766988</td>\n",
       "      <td>-0.688161</td>\n",
       "      <td>-0.519923</td>\n",
       "      <td>0.039406</td>\n",
       "      <td>0.560327</td>\n",
       "      <td>0.538356</td>\n",
       "      <td>0.656881</td>\n",
       "      <td>0.787490</td>\n",
       "      <td>0.724046</td>\n",
       "      <td>0.555784</td>\n",
       "      <td>0.476333</td>\n",
       "      <td>0.773820</td>\n",
       "      <td>1.119621</td>\n",
       "      <td>-1.436250</td>\n",
       "      <td>1.0</td>\n",
       "    </tr>\n",
       "    <tr>\n",
       "      <th>2</th>\n",
       "      <td>-0.567088</td>\n",
       "      <td>-2.593450</td>\n",
       "      <td>-3.874230</td>\n",
       "      <td>-4.584095</td>\n",
       "      <td>-4.187449</td>\n",
       "      <td>-3.151462</td>\n",
       "      <td>-1.742940</td>\n",
       "      <td>-1.490658</td>\n",
       "      <td>-1.183580</td>\n",
       "      <td>-0.394229</td>\n",
       "      <td>-0.282897</td>\n",
       "      <td>-0.356926</td>\n",
       "      <td>-0.287297</td>\n",
       "      <td>-0.399489</td>\n",
       "      <td>-0.473244</td>\n",
       "      <td>-0.379048</td>\n",
       "      <td>-0.399039</td>\n",
       "      <td>-0.178594</td>\n",
       "      <td>-0.339522</td>\n",
       "      <td>-0.498447</td>\n",
       "      <td>-0.337251</td>\n",
       "      <td>-0.425480</td>\n",
       "      <td>-0.423952</td>\n",
       "      <td>-0.463170</td>\n",
       "      <td>-0.493253</td>\n",
       "      <td>-0.549749</td>\n",
       "      <td>-0.529831</td>\n",
       "      <td>-0.530935</td>\n",
       "      <td>-0.502365</td>\n",
       "      <td>-0.417368</td>\n",
       "      <td>-0.526346</td>\n",
       "      <td>-0.471005</td>\n",
       "      <td>-0.676784</td>\n",
       "      <td>-0.898612</td>\n",
       "      <td>-0.610571</td>\n",
       "      <td>-0.530164</td>\n",
       "      <td>-0.765674</td>\n",
       "      <td>-0.581937</td>\n",
       "      <td>-0.537848</td>\n",
       "      <td>-0.556386</td>\n",
       "      <td>...</td>\n",
       "      <td>1.810988</td>\n",
       "      <td>2.185398</td>\n",
       "      <td>2.262985</td>\n",
       "      <td>2.052920</td>\n",
       "      <td>1.890488</td>\n",
       "      <td>1.793033</td>\n",
       "      <td>1.564784</td>\n",
       "      <td>1.234619</td>\n",
       "      <td>0.900302</td>\n",
       "      <td>0.551957</td>\n",
       "      <td>0.258222</td>\n",
       "      <td>-0.128587</td>\n",
       "      <td>-0.092585</td>\n",
       "      <td>-0.168606</td>\n",
       "      <td>-0.495989</td>\n",
       "      <td>-0.395034</td>\n",
       "      <td>-0.328238</td>\n",
       "      <td>-0.448138</td>\n",
       "      <td>-0.268230</td>\n",
       "      <td>-0.456415</td>\n",
       "      <td>-0.357867</td>\n",
       "      <td>-0.317508</td>\n",
       "      <td>-0.434112</td>\n",
       "      <td>-0.549203</td>\n",
       "      <td>-0.324615</td>\n",
       "      <td>-0.268082</td>\n",
       "      <td>-0.220384</td>\n",
       "      <td>-0.117429</td>\n",
       "      <td>0.614059</td>\n",
       "      <td>1.284825</td>\n",
       "      <td>0.886073</td>\n",
       "      <td>0.531452</td>\n",
       "      <td>0.311377</td>\n",
       "      <td>-0.021919</td>\n",
       "      <td>-0.713683</td>\n",
       "      <td>-0.532197</td>\n",
       "      <td>0.321097</td>\n",
       "      <td>0.904227</td>\n",
       "      <td>-0.421797</td>\n",
       "      <td>1.0</td>\n",
       "    </tr>\n",
       "    <tr>\n",
       "      <th>3</th>\n",
       "      <td>0.490473</td>\n",
       "      <td>-1.914407</td>\n",
       "      <td>-3.616364</td>\n",
       "      <td>-4.318823</td>\n",
       "      <td>-4.268016</td>\n",
       "      <td>-3.881110</td>\n",
       "      <td>-2.993280</td>\n",
       "      <td>-1.671131</td>\n",
       "      <td>-1.333884</td>\n",
       "      <td>-0.965629</td>\n",
       "      <td>-0.183319</td>\n",
       "      <td>-0.101657</td>\n",
       "      <td>-0.273874</td>\n",
       "      <td>-0.127818</td>\n",
       "      <td>-0.195983</td>\n",
       "      <td>-0.213523</td>\n",
       "      <td>-0.176473</td>\n",
       "      <td>-0.156932</td>\n",
       "      <td>-0.149172</td>\n",
       "      <td>-0.181510</td>\n",
       "      <td>-0.180074</td>\n",
       "      <td>-0.246151</td>\n",
       "      <td>-0.274260</td>\n",
       "      <td>-0.140960</td>\n",
       "      <td>-0.277449</td>\n",
       "      <td>-0.382549</td>\n",
       "      <td>-0.311937</td>\n",
       "      <td>-0.360093</td>\n",
       "      <td>-0.405968</td>\n",
       "      <td>-0.571433</td>\n",
       "      <td>-0.524106</td>\n",
       "      <td>-0.537886</td>\n",
       "      <td>-0.606778</td>\n",
       "      <td>-0.661446</td>\n",
       "      <td>-0.683375</td>\n",
       "      <td>-0.746683</td>\n",
       "      <td>-0.635662</td>\n",
       "      <td>-0.625231</td>\n",
       "      <td>-0.540094</td>\n",
       "      <td>-0.674995</td>\n",
       "      <td>...</td>\n",
       "      <td>1.772155</td>\n",
       "      <td>2.000769</td>\n",
       "      <td>1.925003</td>\n",
       "      <td>1.898426</td>\n",
       "      <td>1.720953</td>\n",
       "      <td>1.501711</td>\n",
       "      <td>1.422492</td>\n",
       "      <td>1.023225</td>\n",
       "      <td>0.776341</td>\n",
       "      <td>0.504426</td>\n",
       "      <td>0.056382</td>\n",
       "      <td>-0.233161</td>\n",
       "      <td>-0.406388</td>\n",
       "      <td>-0.327528</td>\n",
       "      <td>-0.460868</td>\n",
       "      <td>-0.402536</td>\n",
       "      <td>-0.345752</td>\n",
       "      <td>-0.354206</td>\n",
       "      <td>-0.439959</td>\n",
       "      <td>-0.425326</td>\n",
       "      <td>-0.439789</td>\n",
       "      <td>-0.451835</td>\n",
       "      <td>-0.395926</td>\n",
       "      <td>-0.448762</td>\n",
       "      <td>-0.391789</td>\n",
       "      <td>-0.376307</td>\n",
       "      <td>-0.461069</td>\n",
       "      <td>-0.253524</td>\n",
       "      <td>0.213006</td>\n",
       "      <td>0.491173</td>\n",
       "      <td>0.350816</td>\n",
       "      <td>0.499111</td>\n",
       "      <td>0.600345</td>\n",
       "      <td>0.842069</td>\n",
       "      <td>0.952074</td>\n",
       "      <td>0.990133</td>\n",
       "      <td>1.086798</td>\n",
       "      <td>1.403011</td>\n",
       "      <td>-0.383564</td>\n",
       "      <td>1.0</td>\n",
       "    </tr>\n",
       "    <tr>\n",
       "      <th>4</th>\n",
       "      <td>0.800232</td>\n",
       "      <td>-0.874252</td>\n",
       "      <td>-2.384761</td>\n",
       "      <td>-3.973292</td>\n",
       "      <td>-4.338224</td>\n",
       "      <td>-3.802422</td>\n",
       "      <td>-2.534510</td>\n",
       "      <td>-1.783423</td>\n",
       "      <td>-1.594450</td>\n",
       "      <td>-0.753199</td>\n",
       "      <td>-0.298107</td>\n",
       "      <td>-0.428928</td>\n",
       "      <td>-0.491351</td>\n",
       "      <td>-0.361304</td>\n",
       "      <td>-0.339296</td>\n",
       "      <td>-0.324952</td>\n",
       "      <td>-0.290113</td>\n",
       "      <td>-0.363051</td>\n",
       "      <td>-0.525684</td>\n",
       "      <td>-0.597423</td>\n",
       "      <td>-0.575523</td>\n",
       "      <td>-0.567503</td>\n",
       "      <td>-0.504555</td>\n",
       "      <td>-0.618406</td>\n",
       "      <td>-0.682814</td>\n",
       "      <td>-0.743849</td>\n",
       "      <td>-0.815588</td>\n",
       "      <td>-0.826902</td>\n",
       "      <td>-0.782374</td>\n",
       "      <td>-0.929462</td>\n",
       "      <td>-0.999672</td>\n",
       "      <td>-1.060969</td>\n",
       "      <td>-1.007877</td>\n",
       "      <td>-1.028735</td>\n",
       "      <td>-1.122629</td>\n",
       "      <td>-1.028650</td>\n",
       "      <td>-1.046515</td>\n",
       "      <td>-1.063372</td>\n",
       "      <td>-1.122423</td>\n",
       "      <td>-0.983242</td>\n",
       "      <td>...</td>\n",
       "      <td>1.155363</td>\n",
       "      <td>1.336254</td>\n",
       "      <td>1.627534</td>\n",
       "      <td>1.717594</td>\n",
       "      <td>1.696487</td>\n",
       "      <td>1.741686</td>\n",
       "      <td>1.674078</td>\n",
       "      <td>1.546928</td>\n",
       "      <td>1.331738</td>\n",
       "      <td>1.110168</td>\n",
       "      <td>0.922210</td>\n",
       "      <td>0.521777</td>\n",
       "      <td>0.154852</td>\n",
       "      <td>-0.123861</td>\n",
       "      <td>-0.202998</td>\n",
       "      <td>-0.247956</td>\n",
       "      <td>-0.219122</td>\n",
       "      <td>-0.214695</td>\n",
       "      <td>-0.319215</td>\n",
       "      <td>-0.198597</td>\n",
       "      <td>-0.151618</td>\n",
       "      <td>-0.129593</td>\n",
       "      <td>-0.074939</td>\n",
       "      <td>-0.196807</td>\n",
       "      <td>-0.174795</td>\n",
       "      <td>-0.208833</td>\n",
       "      <td>-0.210754</td>\n",
       "      <td>-0.100485</td>\n",
       "      <td>0.197446</td>\n",
       "      <td>0.966606</td>\n",
       "      <td>1.148884</td>\n",
       "      <td>0.958434</td>\n",
       "      <td>1.059025</td>\n",
       "      <td>1.371682</td>\n",
       "      <td>1.277392</td>\n",
       "      <td>0.960304</td>\n",
       "      <td>0.971020</td>\n",
       "      <td>1.614392</td>\n",
       "      <td>1.421456</td>\n",
       "      <td>1.0</td>\n",
       "    </tr>\n",
       "  </tbody>\n",
       "</table>\n",
       "<p>5 rows × 141 columns</p>\n",
       "</div>"
      ],
      "text/plain": [
       "        0         1         2         3    ...       137       138       139  140\n",
       "0 -0.112522 -2.827204 -3.773897 -4.349751  ...  0.123431  0.925286  0.193137  1.0\n",
       "1 -1.100878 -3.996840 -4.285843 -4.506579  ...  0.773820  1.119621 -1.436250  1.0\n",
       "2 -0.567088 -2.593450 -3.874230 -4.584095  ...  0.321097  0.904227 -0.421797  1.0\n",
       "3  0.490473 -1.914407 -3.616364 -4.318823  ...  1.086798  1.403011 -0.383564  1.0\n",
       "4  0.800232 -0.874252 -2.384761 -3.973292  ...  0.971020  1.614392  1.421456  1.0\n",
       "\n",
       "[5 rows x 141 columns]"
      ]
     },
     "execution_count": 7,
     "metadata": {
      "tags": []
     },
     "output_type": "execute_result"
    }
   ],
   "source": [
    "# Download the dataset\n",
    "dataframe = pd.read_csv('http://storage.googleapis.com/download.tensorflow.org/data/ecg.csv', header=None)\n",
    "raw_data = dataframe.values #DF에서 실제 값만 따온다\n",
    "dataframe.head()"
   ]
  },
  {
   "cell_type": "code",
   "execution_count": 11,
   "metadata": {
    "colab": {
     "base_uri": "https://localhost:8080/"
    },
    "executionInfo": {
     "elapsed": 278,
     "status": "ok",
     "timestamp": 1625822220002,
     "user": {
      "displayName": "이서영",
      "photoUrl": "",
      "userId": "08706917529998634867"
     },
     "user_tz": -540
    },
    "id": "X3nFcmXyjj_j",
    "outputId": "f82cab23-53e8-4df6-f867-78adfdb4077c"
   },
   "outputs": [
    {
     "data": {
      "text/plain": [
       "array([[-0.11252183, -2.8272038 , -3.7738969 , ...,  0.92528624,\n",
       "         0.19313742,  1.        ],\n",
       "       [-1.1008778 , -3.9968398 , -4.2858426 , ...,  1.1196209 ,\n",
       "        -1.4362499 ,  1.        ],\n",
       "       [-0.56708802, -2.5934502 , -3.8742297 , ...,  0.90422673,\n",
       "        -0.42179659,  1.        ],\n",
       "       ...,\n",
       "       [-1.1229693 , -2.2529248 , -2.8676281 , ..., -2.0083694 ,\n",
       "        -1.8083338 ,  0.        ],\n",
       "       [-0.54770461, -1.8895451 , -2.8397786 , ...,  1.1504486 ,\n",
       "         0.80493225,  0.        ],\n",
       "       [-1.3517791 , -2.2090058 , -2.5202247 , ..., -1.577823  ,\n",
       "        -0.68453092,  0.        ]])"
      ]
     },
     "execution_count": 11,
     "metadata": {
      "tags": []
     },
     "output_type": "execute_result"
    }
   ],
   "source": [
    "raw_data"
   ]
  },
  {
   "cell_type": "markdown",
   "metadata": {
    "id": "_qy4ubacg7jP"
   },
   "source": [
    "이 예에서는 ECG5000 데이터세트에서 이상을 감지하도록 autoencoder를 훈련합니다. 이 데이터세트에는 각각 140개의 데이터 포인트가 있는 5,000개의 심전도가 포함되어 있습니다. 단순화 된 버전의 데이터세트를 사용하고, 각 예제는 0(비정상 리듬에 해당) 또는 1(정상 리듬에 해당)으로 레이블이 지정됩니다. 여러분은 비정상 리듬을 식별하는 데 관심이 있습니다.\n",
    "\n",
    "참고: 레이블이 지정된 데이터세트를 사용하므로 지도 학습 문제라고 표현할 수 있습니다. 이 예의 목표는 사용 가능한 레이블이 없는 더 큰 데이터세트에 적용할 수 있는 이상 감지 개념을 설명하는 것입니다(예: 정상 리듬이 수천 개이고 비정상 리듬이 적은 경우).\n",
    "\n",
    "autoencoder를 사용하여 이상을 어떻게 감지하겠습니까? autoencoder는 재구성 오류를 최소화하도록 훈련되었습니다. **autoencoder는 정상 리듬으로만 훈련한 다음 이 autoencoder를 사용하여 모든 데이터를 재구성합니다.** 여기서 가설은 비정상 리듬의 경우에 재구성 오류가 더 클 것이라는 것입니다. 그런 다음 재구성 오류가 고정 임계값을 초과하는 경우, 리듬을 이상으로 분류합니다."
   ]
  },
  {
   "cell_type": "code",
   "execution_count": 8,
   "metadata": {
    "colab": {
     "base_uri": "https://localhost:8080/"
    },
    "executionInfo": {
     "elapsed": 400,
     "status": "ok",
     "timestamp": 1625822194032,
     "user": {
      "displayName": "이서영",
      "photoUrl": "",
      "userId": "08706917529998634867"
     },
     "user_tz": -540
    },
    "id": "YB-mJuVUgZU1",
    "outputId": "962d00a1-cc20-4543-ba80-c0044cc7a72c"
   },
   "outputs": [
    {
     "data": {
      "text/plain": [
       "(4998, 141)"
      ]
     },
     "execution_count": 8,
     "metadata": {
      "tags": []
     },
     "output_type": "execute_result"
    }
   ],
   "source": [
    "dataframe.shape"
   ]
  },
  {
   "cell_type": "code",
   "execution_count": 12,
   "metadata": {
    "colab": {
     "base_uri": "https://localhost:8080/"
    },
    "executionInfo": {
     "elapsed": 266,
     "status": "ok",
     "timestamp": 1625822312644,
     "user": {
      "displayName": "이서영",
      "photoUrl": "",
      "userId": "08706917529998634867"
     },
     "user_tz": -540
    },
    "id": "FAxUTay_goX4",
    "outputId": "d71d30fa-832b-47b9-9168-238206e0923b"
   },
   "outputs": [
    {
     "name": "stdout",
     "output_type": "stream",
     "text": [
      "[1. 1. 1. ... 0. 0. 0.]\n",
      "(4998,)\n"
     ]
    }
   ],
   "source": [
    "# 맨 마지막에 label값이 붙어있다. labels에 값만 추출하자\n",
    "labels = raw_data[:, -1]\n",
    "print(labels)\n",
    "print(labels.shape)"
   ]
  },
  {
   "cell_type": "code",
   "execution_count": 13,
   "metadata": {
    "colab": {
     "base_uri": "https://localhost:8080/"
    },
    "executionInfo": {
     "elapsed": 253,
     "status": "ok",
     "timestamp": 1625822324155,
     "user": {
      "displayName": "이서영",
      "photoUrl": "",
      "userId": "08706917529998634867"
     },
     "user_tz": -540
    },
    "id": "n4SvnFMyj8mk",
    "outputId": "f7e9d1ac-67d8-45b7-b5cc-8ead2fdc8194"
   },
   "outputs": [
    {
     "name": "stdout",
     "output_type": "stream",
     "text": [
      "[[-0.11252183 -2.8272038  -3.7738969  ...  0.12343082  0.92528624\n",
      "   0.19313742]\n",
      " [-1.1008778  -3.9968398  -4.2858426  ...  0.77381971  1.1196209\n",
      "  -1.4362499 ]\n",
      " [-0.56708802 -2.5934502  -3.8742297  ...  0.32109663  0.90422673\n",
      "  -0.42179659]\n",
      " ...\n",
      " [-1.1229693  -2.2529248  -2.8676281  ... -2.874136   -2.0083694\n",
      "  -1.8083338 ]\n",
      " [-0.54770461 -1.8895451  -2.8397786  ...  1.261335    1.1504486\n",
      "   0.80493225]\n",
      " [-1.3517791  -2.2090058  -2.5202247  ... -2.2600228  -1.577823\n",
      "  -0.68453092]]\n",
      "(4998, 140)\n"
     ]
    }
   ],
   "source": [
    "#다른 데이터 포인트들은 electo cadriogram data ???\n",
    "data = raw_data[:, 0: -1]\n",
    "print(data)\n",
    "print(data.shape)"
   ]
  },
  {
   "cell_type": "code",
   "execution_count": 14,
   "metadata": {
    "executionInfo": {
     "elapsed": 261,
     "status": "ok",
     "timestamp": 1625822492210,
     "user": {
      "displayName": "이서영",
      "photoUrl": "",
      "userId": "08706917529998634867"
     },
     "user_tz": -540
    },
    "id": "FUV8mfufjgxe"
   },
   "outputs": [],
   "source": [
    "train_data, test_data, train_labels, test_labels = train_test_split(\n",
    "    data, labels, test_size = 0.2, random_state = 21 #random state는 뭐지?\n",
    ") #train_data == 0.8% test_data 0.2% , train_labels = 0.8% test_labels=0.2%"
   ]
  },
  {
   "cell_type": "code",
   "execution_count": 15,
   "metadata": {
    "colab": {
     "base_uri": "https://localhost:8080/"
    },
    "executionInfo": {
     "elapsed": 276,
     "status": "ok",
     "timestamp": 1625823127893,
     "user": {
      "displayName": "이서영",
      "photoUrl": "",
      "userId": "08706917529998634867"
     },
     "user_tz": -540
    },
    "id": "9hsM4wy6knO-",
    "outputId": "9ddf2f35-4a56-4ac3-c398-1005271b5a29"
   },
   "outputs": [
    {
     "name": "stdout",
     "output_type": "stream",
     "text": [
      "tf.Tensor(-6.2808752, shape=(), dtype=float64)\n",
      "()\n"
     ]
    }
   ],
   "source": [
    "#데이터 [0,1] 정규화\n",
    "min_val = tf.reduce_min(train_data)\n",
    "max_val = tf.reduce_max(train_data)\n",
    "\n",
    "print(min_val)\n",
    "print(min_val.shape)"
   ]
  },
  {
   "cell_type": "code",
   "execution_count": 16,
   "metadata": {
    "colab": {
     "base_uri": "https://localhost:8080/"
    },
    "executionInfo": {
     "elapsed": 247,
     "status": "ok",
     "timestamp": 1625823286442,
     "user": {
      "displayName": "이서영",
      "photoUrl": "",
      "userId": "08706917529998634867"
     },
     "user_tz": -540
    },
    "id": "UZMO6AUMnBfN",
    "outputId": "24e1544c-eb67-41b1-8def-7c7722a0a2c2"
   },
   "outputs": [
    {
     "name": "stdout",
     "output_type": "stream",
     "text": [
      "tf.Tensor(\n",
      "[[0.57030466 0.46561659 0.29058117 ... 0.48504233 0.42335019 0.47598344]\n",
      " [0.48320587 0.28246963 0.16471254 ... 0.56756701 0.46772939 0.26923291]\n",
      " [0.48144641 0.35151403 0.25972766 ... 0.54794209 0.50775438 0.54298664]\n",
      " ...\n",
      " [0.41039048 0.24164985 0.13120877 ... 0.52773129 0.56540911 0.50238847]\n",
      " [0.53977477 0.41407858 0.28101392 ... 0.51266516 0.43706054 0.44268649]\n",
      " [0.29639772 0.15988175 0.18883787 ... 0.53766964 0.54578602 0.40826709]], shape=(3998, 140), dtype=float64)\n",
      "tf.Tensor(\n",
      "[[0.48035769 0.28877791 0.19828546 ... 0.45463307 0.52461251 0.3713729 ]\n",
      " [0.36878969 0.30728118 0.26587983 ... 0.58551235 0.56629881 0.57264043]\n",
      " [0.45354808 0.2557325  0.15979648 ... 0.4801337  0.52847338 0.49527123]\n",
      " ...\n",
      " [0.48304973 0.36122933 0.27729513 ... 0.32799057 0.3158066  0.26930442]\n",
      " [0.4090865  0.27907098 0.22604261 ... 0.39099607 0.45987614 0.42140076]\n",
      " [0.42648116 0.17669384 0.14546009 ... 0.47333889 0.55036914 0.37805187]], shape=(1000, 140), dtype=float64)\n"
     ]
    }
   ],
   "source": [
    "train_data = (train_data - min_val) / (max_val - min_val)\n",
    "test_data = (test_data - min_val) / (max_val - min_val)\n",
    "\n",
    "print(train_data)\n",
    "print(test_data)"
   ]
  },
  {
   "cell_type": "code",
   "execution_count": 17,
   "metadata": {
    "executionInfo": {
     "elapsed": 247,
     "status": "ok",
     "timestamp": 1625823322163,
     "user": {
      "displayName": "이서영",
      "photoUrl": "",
      "userId": "08706917529998634867"
     },
     "user_tz": -540
    },
    "id": "fGf77uKHnpHT"
   },
   "outputs": [],
   "source": [
    "train_data = tf.cast(train_data, tf.float32) \n",
    "test_data = tf.cast(test_data, tf.float32)"
   ]
  },
  {
   "cell_type": "markdown",
   "metadata": {
    "id": "buq6hF2-n_0r"
   },
   "source": [
    "a = np.array([0.123456789121212,2,3], dtype=np.float16)  \n",
    "print(\"16bit: \", a[0])  \n",
    "  \n",
    "a = np.array([0.123456789121212,2,3], dtype=np.float32)  \n",
    "print(\"32bit: \", a[0])  \n",
    "  \n",
    "b = np.array([0.123456789121212121212,2,3], dtype=np.float64)  \n",
    "print(\"64bit: \", b[0])  \n",
    "  \n",
    "16bit: 0.1235  \n",
    "32bit: 0.12345679  \n",
    "64bit: 0.12345678912121212  "
   ]
  },
  {
   "cell_type": "markdown",
   "metadata": {
    "id": "wQB-PxhooJlv"
   },
   "source": [
    "이 데이터셋에서 1로 레이블이 지정된 정상 리듬만 사용하여 autoEncoder 훈련한다.\n",
    "\n",
    "정상과 비정상 리듬을 분리한다."
   ]
  },
  {
   "cell_type": "code",
   "execution_count": 19,
   "metadata": {
    "colab": {
     "base_uri": "https://localhost:8080/"
    },
    "executionInfo": {
     "elapsed": 241,
     "status": "ok",
     "timestamp": 1625823484708,
     "user": {
      "displayName": "이서영",
      "photoUrl": "",
      "userId": "08706917529998634867"
     },
     "user_tz": -540
    },
    "id": "xZMhPTgLoBs7",
    "outputId": "30f64ac9-9125-4c10-f89a-9f61cbbb5932"
   },
   "outputs": [
    {
     "name": "stdout",
     "output_type": "stream",
     "text": [
      "[ True  True  True ...  True  True  True]\n"
     ]
    }
   ],
   "source": [
    "train_labels = train_labels.astype(bool)\n",
    "test_labels = test_labels.astype(bool)\n",
    "print(train_labels)"
   ]
  },
  {
   "cell_type": "code",
   "execution_count": 20,
   "metadata": {
    "colab": {
     "base_uri": "https://localhost:8080/"
    },
    "executionInfo": {
     "elapsed": 256,
     "status": "ok",
     "timestamp": 1625823528340,
     "user": {
      "displayName": "이서영",
      "photoUrl": "",
      "userId": "08706917529998634867"
     },
     "user_tz": -540
    },
    "id": "JqtL354EoZis",
    "outputId": "399da494-4fca-4b5e-8780-b52f7e455ea3"
   },
   "outputs": [
    {
     "name": "stdout",
     "output_type": "stream",
     "text": [
      "tf.Tensor(\n",
      "[[0.57030463 0.46561658 0.29058117 ... 0.48504233 0.4233502  0.47598344]\n",
      " [0.48320588 0.28246963 0.16471253 ... 0.567567   0.4677294  0.2692329 ]\n",
      " [0.48144642 0.35151404 0.25972766 ... 0.5479421  0.5077544  0.54298663]\n",
      " ...\n",
      " [0.41039047 0.24164985 0.13120876 ... 0.5277313  0.5654091  0.5023885 ]\n",
      " [0.5397748  0.4140786  0.28101394 ... 0.51266515 0.43706053 0.4426865 ]\n",
      " [0.29639772 0.15988176 0.18883787 ... 0.53766966 0.545786   0.40826708]], shape=(2359, 140), dtype=float32)\n"
     ]
    }
   ],
   "source": [
    "normal_train_data = train_data[train_labels]\n",
    "normal_test_data = test_data[test_labels]\n",
    "print(normal_train_data)"
   ]
  },
  {
   "cell_type": "code",
   "execution_count": 22,
   "metadata": {
    "colab": {
     "base_uri": "https://localhost:8080/"
    },
    "executionInfo": {
     "elapsed": 250,
     "status": "ok",
     "timestamp": 1625823669929,
     "user": {
      "displayName": "이서영",
      "photoUrl": "",
      "userId": "08706917529998634867"
     },
     "user_tz": -540
    },
    "id": "EgKZ_e0kokMj",
    "outputId": "f4b697a4-5bd5-4468-d3c4-dd62e393378a"
   },
   "outputs": [
    {
     "name": "stdout",
     "output_type": "stream",
     "text": [
      "tf.Tensor(\n",
      "[[0.4304001  0.35345322 0.30342638 ... 0.30506894 0.262255   0.2502011 ]\n",
      " [0.4494794  0.37906834 0.3202905  ... 0.31546655 0.39611116 0.46317974]\n",
      " [0.49198422 0.4355403  0.3698029  ... 0.5260356  0.52524984 0.5278486 ]\n",
      " ...\n",
      " [0.43457043 0.362154   0.34958026 ... 0.3179064  0.3426891  0.49215436]\n",
      " [0.4814947  0.4255184  0.38368973 ... 0.29031053 0.3311408  0.4467481 ]\n",
      " [0.4276824  0.3507402  0.31587753 ... 0.3177887  0.33242297 0.419218  ]], shape=(1639, 140), dtype=float32)\n"
     ]
    }
   ],
   "source": [
    "anomalous_train_data = train_data[~train_labels] # not 의 의미였지!\n",
    "anomalous_test_data = test_data[~test_labels]\n",
    "print(anomalous_train_data)"
   ]
  },
  {
   "cell_type": "code",
   "execution_count": 30,
   "metadata": {
    "colab": {
     "base_uri": "https://localhost:8080/",
     "height": 281
    },
    "executionInfo": {
     "elapsed": 297,
     "status": "ok",
     "timestamp": 1625824093234,
     "user": {
      "displayName": "이서영",
      "photoUrl": "",
      "userId": "08706917529998634867"
     },
     "user_tz": -540
    },
    "id": "t4HtvnyQo2kb",
    "outputId": "3088b5c5-fcc6-4bea-86aa-05c244ce923a"
   },
   "outputs": [
    {
     "data": {
      "image/png": "[encoded data removed]",
      "text/plain": [
       "<Figure size 432x288 with 1 Axes>"
      ]
     },
     "metadata": {
      "needs_background": "light",
      "tags": []
     },
     "output_type": "display_data"
    }
   ],
   "source": [
    "#정상적인 ECG plot\n",
    "plt.grid()\n",
    "plt.plot(np.arange(140), normal_train_data[0]) #arange(140) Return evenly spaced values within a given interval.\n",
    "plt.title(\"A normal ECG\")\n",
    "plt.show()"
   ]
  },
  {
   "cell_type": "markdown",
   "metadata": {
    "id": "8BZ24of6q1pN"
   },
   "source": [
    "np.arange(3)  \n",
    "array([0, 1, 2])  \n",
    "np.arange(3.0)  \n",
    "array([ 0.,  1.,  2.])  \n",
    "np.arange(3,7)  \n",
    "array([3, 4, 5, 6])  \n",
    "np.arange(3,7,2)  \n",
    "array([3, 5])  \n"
   ]
  },
  {
   "cell_type": "code",
   "execution_count": 31,
   "metadata": {
    "colab": {
     "base_uri": "https://localhost:8080/",
     "height": 281
    },
    "executionInfo": {
     "elapsed": 292,
     "status": "ok",
     "timestamp": 1625824171111,
     "user": {
      "displayName": "이서영",
      "photoUrl": "",
      "userId": "08706917529998634867"
     },
     "user_tz": -540
    },
    "id": "yFIr7iYspSqS",
    "outputId": "c939b005-b5da-4756-d1d7-a2ea1c534e3c"
   },
   "outputs": [
    {
     "data": {
      "image/png": "[encoded data removed]",
      "text/plain": [
       "<Figure size 432x288 with 1 Axes>"
      ]
     },
     "metadata": {
      "needs_background": "light",
      "tags": []
     },
     "output_type": "display_data"
    }
   ],
   "source": [
    "plt.grid()\n",
    "plt.plot(np.arange(140), anomalous_train_data[0])\n",
    "plt.title(\"An Anomalous ECG\")\n",
    "plt.show()"
   ]
  },
  {
   "cell_type": "markdown",
   "metadata": {
    "id": "zDIEHDSnrEDs"
   },
   "source": [
    "# 1. Model Build"
   ]
  },
  {
   "cell_type": "code",
   "execution_count": 53,
   "metadata": {
    "executionInfo": {
     "elapsed": 803,
     "status": "ok",
     "timestamp": 1625825051448,
     "user": {
      "displayName": "이서영",
      "photoUrl": "",
      "userId": "08706917529998634867"
     },
     "user_tz": -540
    },
    "id": "ffbvl_rWrBHR"
   },
   "outputs": [],
   "source": [
    "class AnomalyDetector(Model):\n",
    "  def __init__(self):\n",
    "    super(AnomalyDetector, self).__init__()\n",
    "    self.encoder = tf.keras.Sequential([\n",
    "      layers.Dense(32, activation='relu'),\n",
    "      layers.Dense(16, activation='relu'),\n",
    "      layers.Dense(8, activation='relu')])\n",
    "    \n",
    "    self.decoder = tf.keras.Sequential([\n",
    "      layers.Dense(16, activation='relu'),\n",
    "      layers.Dense(32, activation='relu'),\n",
    "      layers.Dense(140, activation='sigmoid')]) #마지막을 sigmoid가 아니라 relu로 했더니 절딴났다 왜그런걸까?\n",
    "    \n",
    "  def call(self, x):\n",
    "    encoded = self.encoder(x)\n",
    "    decoded = self.decoder(encoded)\n",
    "    return decoded"
   ]
  },
  {
   "cell_type": "code",
   "execution_count": 54,
   "metadata": {
    "executionInfo": {
     "elapsed": 268,
     "status": "ok",
     "timestamp": 1625825078155,
     "user": {
      "displayName": "이서영",
      "photoUrl": "",
      "userId": "08706917529998634867"
     },
     "user_tz": -540
    },
    "id": "id_-towrrMKp"
   },
   "outputs": [],
   "source": [
    "auto_encoder = AnomalyDetector()"
   ]
  },
  {
   "cell_type": "code",
   "execution_count": 55,
   "metadata": {
    "executionInfo": {
     "elapsed": 273,
     "status": "ok",
     "timestamp": 1625825083179,
     "user": {
      "displayName": "이서영",
      "photoUrl": "",
      "userId": "08706917529998634867"
     },
     "user_tz": -540
    },
    "id": "FbSRm3fcrxSh"
   },
   "outputs": [],
   "source": [
    "auto_encoder.compile(optimizer='adam', loss = 'mae')"
   ]
  },
  {
   "cell_type": "code",
   "execution_count": 56,
   "metadata": {
    "executionInfo": {
     "elapsed": 4,
     "status": "ok",
     "timestamp": 1625825083904,
     "user": {
      "displayName": "이서영",
      "photoUrl": "",
      "userId": "08706917529998634867"
     },
     "user_tz": -540
    },
    "id": "Dbe69eSAsAQV"
   },
   "outputs": [],
   "source": [
    "auto_encoder.build(normal_train_data.shape)"
   ]
  },
  {
   "cell_type": "code",
   "execution_count": 57,
   "metadata": {
    "executionInfo": {
     "elapsed": 278,
     "status": "ok",
     "timestamp": 1625825086738,
     "user": {
      "displayName": "이서영",
      "photoUrl": "",
      "userId": "08706917529998634867"
     },
     "user_tz": -540
    },
    "id": "q6yUqUuzsme4"
   },
   "outputs": [],
   "source": [
    "EPOCHS = 50\n",
    "BATCH_SIZE = 512"
   ]
  },
  {
   "cell_type": "code",
   "execution_count": 58,
   "metadata": {
    "colab": {
     "base_uri": "https://localhost:8080/"
    },
    "executionInfo": {
     "elapsed": 2684,
     "status": "ok",
     "timestamp": 1625825099772,
     "user": {
      "displayName": "이서영",
      "photoUrl": "",
      "userId": "08706917529998634867"
     },
     "user_tz": -540
    },
    "id": "eoeOqQFOr3u9",
    "outputId": "fb2fdf35-a3d7-4b3a-dfb4-19807959029c"
   },
   "outputs": [
    {
     "name": "stdout",
     "output_type": "stream",
     "text": [
      "Epoch 1/50\n",
      "5/5 [==============================] - 1s 37ms/step - loss: 0.0578 - val_loss: 0.0531\n",
      "Epoch 2/50\n",
      "5/5 [==============================] - 0s 7ms/step - loss: 0.0556 - val_loss: 0.0513\n",
      "Epoch 3/50\n",
      "5/5 [==============================] - 0s 7ms/step - loss: 0.0528 - val_loss: 0.0493\n",
      "Epoch 4/50\n",
      "5/5 [==============================] - 0s 7ms/step - loss: 0.0493 - val_loss: 0.0476\n",
      "Epoch 5/50\n",
      "5/5 [==============================] - 0s 7ms/step - loss: 0.0457 - val_loss: 0.0459\n",
      "Epoch 6/50\n",
      "5/5 [==============================] - 0s 7ms/step - loss: 0.0424 - val_loss: 0.0440\n",
      "Epoch 7/50\n",
      "5/5 [==============================] - 0s 7ms/step - loss: 0.0390 - val_loss: 0.0426\n",
      "Epoch 8/50\n",
      "5/5 [==============================] - 0s 7ms/step - loss: 0.0360 - val_loss: 0.0414\n",
      "Epoch 9/50\n",
      "5/5 [==============================] - 0s 7ms/step - loss: 0.0333 - val_loss: 0.0403\n",
      "Epoch 10/50\n",
      "5/5 [==============================] - 0s 7ms/step - loss: 0.0308 - val_loss: 0.0391\n",
      "Epoch 11/50\n",
      "5/5 [==============================] - 0s 7ms/step - loss: 0.0287 - val_loss: 0.0381\n",
      "Epoch 12/50\n",
      "5/5 [==============================] - 0s 7ms/step - loss: 0.0271 - val_loss: 0.0372\n",
      "Epoch 13/50\n",
      "5/5 [==============================] - 0s 7ms/step - loss: 0.0258 - val_loss: 0.0366\n",
      "Epoch 14/50\n",
      "5/5 [==============================] - 0s 7ms/step - loss: 0.0249 - val_loss: 0.0360\n",
      "Epoch 15/50\n",
      "5/5 [==============================] - 0s 8ms/step - loss: 0.0241 - val_loss: 0.0354\n",
      "Epoch 16/50\n",
      "5/5 [==============================] - 0s 7ms/step - loss: 0.0235 - val_loss: 0.0352\n",
      "Epoch 17/50\n",
      "5/5 [==============================] - 0s 7ms/step - loss: 0.0229 - val_loss: 0.0347\n",
      "Epoch 18/50\n",
      "5/5 [==============================] - 0s 7ms/step - loss: 0.0223 - val_loss: 0.0342\n",
      "Epoch 19/50\n",
      "5/5 [==============================] - 0s 7ms/step - loss: 0.0217 - val_loss: 0.0339\n",
      "Epoch 20/50\n",
      "5/5 [==============================] - 0s 7ms/step - loss: 0.0212 - val_loss: 0.0337\n",
      "Epoch 21/50\n",
      "5/5 [==============================] - 0s 7ms/step - loss: 0.0208 - val_loss: 0.0336\n",
      "Epoch 22/50\n",
      "5/5 [==============================] - 0s 7ms/step - loss: 0.0206 - val_loss: 0.0336\n",
      "Epoch 23/50\n",
      "5/5 [==============================] - 0s 8ms/step - loss: 0.0204 - val_loss: 0.0335\n",
      "Epoch 24/50\n",
      "5/5 [==============================] - 0s 7ms/step - loss: 0.0203 - val_loss: 0.0335\n",
      "Epoch 25/50\n",
      "5/5 [==============================] - 0s 8ms/step - loss: 0.0202 - val_loss: 0.0333\n",
      "Epoch 26/50\n",
      "5/5 [==============================] - 0s 7ms/step - loss: 0.0200 - val_loss: 0.0331\n",
      "Epoch 27/50\n",
      "5/5 [==============================] - 0s 8ms/step - loss: 0.0200 - val_loss: 0.0331\n",
      "Epoch 28/50\n",
      "5/5 [==============================] - 0s 8ms/step - loss: 0.0199 - val_loss: 0.0327\n",
      "Epoch 29/50\n",
      "5/5 [==============================] - 0s 7ms/step - loss: 0.0198 - val_loss: 0.0329\n",
      "Epoch 30/50\n",
      "5/5 [==============================] - 0s 8ms/step - loss: 0.0197 - val_loss: 0.0324\n",
      "Epoch 31/50\n",
      "5/5 [==============================] - 0s 7ms/step - loss: 0.0196 - val_loss: 0.0324\n",
      "Epoch 32/50\n",
      "5/5 [==============================] - 0s 7ms/step - loss: 0.0196 - val_loss: 0.0321\n",
      "Epoch 33/50\n",
      "5/5 [==============================] - 0s 7ms/step - loss: 0.0195 - val_loss: 0.0321\n",
      "Epoch 34/50\n",
      "5/5 [==============================] - 0s 7ms/step - loss: 0.0194 - val_loss: 0.0318\n",
      "Epoch 35/50\n",
      "5/5 [==============================] - 0s 7ms/step - loss: 0.0193 - val_loss: 0.0317\n",
      "Epoch 36/50\n",
      "5/5 [==============================] - 0s 7ms/step - loss: 0.0192 - val_loss: 0.0315\n",
      "Epoch 37/50\n",
      "5/5 [==============================] - 0s 7ms/step - loss: 0.0191 - val_loss: 0.0312\n",
      "Epoch 38/50\n",
      "5/5 [==============================] - 0s 7ms/step - loss: 0.0189 - val_loss: 0.0312\n",
      "Epoch 39/50\n",
      "5/5 [==============================] - 0s 7ms/step - loss: 0.0188 - val_loss: 0.0309\n",
      "Epoch 40/50\n",
      "5/5 [==============================] - 0s 7ms/step - loss: 0.0187 - val_loss: 0.0308\n",
      "Epoch 41/50\n",
      "5/5 [==============================] - 0s 7ms/step - loss: 0.0185 - val_loss: 0.0307\n",
      "Epoch 42/50\n",
      "5/5 [==============================] - 0s 7ms/step - loss: 0.0184 - val_loss: 0.0305\n",
      "Epoch 43/50\n",
      "5/5 [==============================] - 0s 7ms/step - loss: 0.0183 - val_loss: 0.0303\n",
      "Epoch 44/50\n",
      "5/5 [==============================] - 0s 7ms/step - loss: 0.0182 - val_loss: 0.0305\n",
      "Epoch 45/50\n",
      "5/5 [==============================] - 0s 7ms/step - loss: 0.0180 - val_loss: 0.0302\n",
      "Epoch 46/50\n",
      "5/5 [==============================] - 0s 7ms/step - loss: 0.0179 - val_loss: 0.0302\n",
      "Epoch 47/50\n",
      "5/5 [==============================] - 0s 7ms/step - loss: 0.0178 - val_loss: 0.0301\n",
      "Epoch 48/50\n",
      "5/5 [==============================] - 0s 7ms/step - loss: 0.0177 - val_loss: 0.0300\n",
      "Epoch 49/50\n",
      "5/5 [==============================] - 0s 8ms/step - loss: 0.0175 - val_loss: 0.0300\n",
      "Epoch 50/50\n",
      "5/5 [==============================] - 0s 8ms/step - loss: 0.0174 - val_loss: 0.0299\n"
     ]
    }
   ],
   "source": [
    "history = auto_encoder.fit(normal_train_data, normal_train_data,\n",
    "                           epochs = EPOCHS,\n",
    "                           batch_size= BATCH_SIZE,\n",
    "                           validation_data = (test_data, test_data),\n",
    "                           shuffle=True)"
   ]
  },
  {
   "cell_type": "code",
   "execution_count": 59,
   "metadata": {
    "colab": {
     "base_uri": "https://localhost:8080/",
     "height": 283
    },
    "executionInfo": {
     "elapsed": 698,
     "status": "ok",
     "timestamp": 1625825107338,
     "user": {
      "displayName": "이서영",
      "photoUrl": "",
      "userId": "08706917529998634867"
     },
     "user_tz": -540
    },
    "id": "4K1_4gsar2cL",
    "outputId": "a4cd79ee-99f1-4b44-f343-59ed898133bb"
   },
   "outputs": [
    {
     "data": {
      "text/plain": [
       "<matplotlib.legend.Legend at 0x7f717df53910>"
      ]
     },
     "execution_count": 59,
     "metadata": {
      "tags": []
     },
     "output_type": "execute_result"
    },
    {
     "data": {
      "image/png": "[encoded data removed]",
      "text/plain": [
       "<Figure size 432x288 with 1 Axes>"
      ]
     },
     "metadata": {
      "needs_background": "light",
      "tags": []
     },
     "output_type": "display_data"
    }
   ],
   "source": [
    "plt.plot(history.history['loss'], label = 'Training Loss')\n",
    "plt.plot(history.history['val_loss'], label = 'Validation Loss')\n",
    "plt.legend()"
   ]
  },
  {
   "cell_type": "code",
   "execution_count": 60,
   "metadata": {
    "colab": {
     "base_uri": "https://localhost:8080/"
    },
    "executionInfo": {
     "elapsed": 269,
     "status": "ok",
     "timestamp": 1625825118714,
     "user": {
      "displayName": "이서영",
      "photoUrl": "",
      "userId": "08706917529998634867"
     },
     "user_tz": -540
    },
    "id": "VsnykWplsfSx",
    "outputId": "efe6de7f-687c-43fe-9a3b-563fc41f8074"
   },
   "outputs": [
    {
     "name": "stdout",
     "output_type": "stream",
     "text": [
      "[[0.         0.22595623 3.2184184  ... 0.         0.5234634  0.6616345 ]\n",
      " [0.         0.72891825 3.4387677  ... 0.         0.47287992 1.235037  ]\n",
      " [0.         0.8366541  3.4885352  ... 0.         0.4486321  1.3636434 ]\n",
      " ...\n",
      " [0.         0.12451974 3.1129067  ... 0.         0.5505816  0.5295408 ]\n",
      " [0.         0.5649192  3.3724186  ... 0.         0.51487076 1.0441755 ]\n",
      " [0.         0.6087138  3.397607   ... 0.         0.48821568 1.0925738 ]]\n",
      "<class 'numpy.ndarray'>\n",
      "[[0.41832653 0.3007205  0.2517921  ... 0.44601798 0.4555174  0.37517828]\n",
      " [0.43077168 0.27720737 0.1828878  ... 0.5243997  0.52793604 0.44453353]\n",
      " [0.43336803 0.27201268 0.16985941 ... 0.54101366 0.5436403  0.45965126]\n",
      " ...\n",
      " [0.42082974 0.310215   0.2683644  ... 0.43369552 0.4443902  0.3648762 ]\n",
      " [0.42663732 0.28477034 0.20362514 ... 0.49919105 0.50395215 0.42167988]\n",
      " [0.4274931  0.2823418  0.19784576 ... 0.50493306 0.5100703  0.42675522]]\n"
     ]
    }
   ],
   "source": [
    "encoded_imgs = auto_encoder.encoder(normal_test_data).numpy()\n",
    "decoded_imgs = auto_encoder.decoder(encoded_imgs).numpy()\n",
    "print(encoded_imgs)\n",
    "print(type(encoded_imgs))\n",
    "print(decoded_imgs)"
   ]
  },
  {
   "cell_type": "code",
   "execution_count": 61,
   "metadata": {
    "colab": {
     "base_uri": "https://localhost:8080/",
     "height": 265
    },
    "executionInfo": {
     "elapsed": 339,
     "status": "ok",
     "timestamp": 1625825121842,
     "user": {
      "displayName": "이서영",
      "photoUrl": "",
      "userId": "08706917529998634867"
     },
     "user_tz": -540
    },
    "id": "9wBm4LhCtEvI",
    "outputId": "13815dd6-8769-4c90-8686-b35541bc02a7"
   },
   "outputs": [
    {
     "data": {
      "image/png": "[encoded data removed]",
      "text/plain": [
       "<Figure size 432x288 with 1 Axes>"
      ]
     },
     "metadata": {
      "needs_background": "light",
      "tags": []
     },
     "output_type": "display_data"
    }
   ],
   "source": [
    "plt.plot(normal_test_data[0], 'b')\n",
    "plt.plot(decoded_imgs[0], 'r')\n",
    "plt.fill_between(np.arange(140), decoded_imgs[0], normal_test_data[0], color='lightcoral')\n",
    "plt.legend(labels=[\"Input\", \"Reconstruction\", \"Error\"])\n",
    "plt.show()"
   ]
  },
  {
   "cell_type": "markdown",
   "metadata": {
    "id": "efZ0bXf3u34m"
   },
   "source": [
    "재구성 오류가 정상 훈련 예제에서 하나의 표준 편차보다 큰 경우,   \n",
    "ECG를 비정상으로 분류합니다.   \n",
    "먼저, 훈련 세트의 정상 ECG, autoencoder에 의해 인코딩 및 디코딩된 후|의 재구성, 재구성 오류를 플롯해 보겠습니다."
   ]
  },
  {
   "cell_type": "code",
   "execution_count": 63,
   "metadata": {
    "executionInfo": {
     "elapsed": 352,
     "status": "ok",
     "timestamp": 1625825266640,
     "user": {
      "displayName": "이서영",
      "photoUrl": "",
      "userId": "08706917529998634867"
     },
     "user_tz": -540
    },
    "id": "TjJEpPC5tSr5"
   },
   "outputs": [],
   "source": [
    "ano_encoded_imgs = auto_encoder.encoder(anomalous_test_data).numpy()\n",
    "ano_decoded_imgs = auto_encoder.decoder(ano_encoded_imgs).numpy()"
   ]
  },
  {
   "cell_type": "code",
   "execution_count": 64,
   "metadata": {
    "colab": {
     "base_uri": "https://localhost:8080/",
     "height": 265
    },
    "executionInfo": {
     "elapsed": 323,
     "status": "ok",
     "timestamp": 1625825285656,
     "user": {
      "displayName": "이서영",
      "photoUrl": "",
      "userId": "08706917529998634867"
     },
     "user_tz": -540
    },
    "id": "baiO2NREvJqf",
    "outputId": "0d0a9d1f-ccd6-4731-e1ee-46c0aeb7e1d1"
   },
   "outputs": [
    {
     "data": {
      "image/png": "[encoded data removed]",
      "text/plain": [
       "<Figure size 432x288 with 1 Axes>"
      ]
     },
     "metadata": {
      "needs_background": "light",
      "tags": []
     },
     "output_type": "display_data"
    }
   ],
   "source": [
    "plt.plot(anomalous_test_data[0], 'b')\n",
    "plt.plot(ano_decoded_imgs[0], 'r')\n",
    "plt.fill_between(np.arange(140), ano_decoded_imgs[0], anomalous_test_data[0], color='lightcoral')\n",
    "plt.legend(labels=[\"Input\", \"Reconstruction\", \"Error\"])\n",
    "plt.show()"
   ]
  },
  {
   "cell_type": "markdown",
   "metadata": {
    "id": "5FxP47QMvVmE"
   },
   "source": [
    "# 2. 이상 감지하기"
   ]
  },
  {
   "cell_type": "markdown",
   "metadata": {
    "id": "YDHypisovt7Z"
   },
   "source": [
    "훈련 세트에서 정상 예제에 대한 평균 오차를 계산한 다음,    \n",
    "재구성 오류가 훈련 세트의 표준 편차보다 큰 경우 향후 예제를 비정상적인 것으로 분류합니다."
   ]
  },
  {
   "cell_type": "code",
   "execution_count": 65,
   "metadata": {
    "executionInfo": {
     "elapsed": 248,
     "status": "ok",
     "timestamp": 1625825448274,
     "user": {
      "displayName": "이서영",
      "photoUrl": "",
      "userId": "08706917529998634867"
     },
     "user_tz": -540
    },
    "id": "YK-UZWRvvRNf"
   },
   "outputs": [],
   "source": [
    "reconstructions = auto_encoder.predict(normal_train_data)\n",
    "train_loss = tf.keras.losses.mae(reconstructions, normal_train_data)"
   ]
  },
  {
   "cell_type": "code",
   "execution_count": 66,
   "metadata": {
    "colab": {
     "base_uri": "https://localhost:8080/"
    },
    "executionInfo": {
     "elapsed": 241,
     "status": "ok",
     "timestamp": 1625825462845,
     "user": {
      "displayName": "이서영",
      "photoUrl": "",
      "userId": "08706917529998634867"
     },
     "user_tz": -540
    },
    "id": "3JRyZgd-v474",
    "outputId": "a786024a-0350-41e4-8230-80035e2b9d72"
   },
   "outputs": [
    {
     "name": "stdout",
     "output_type": "stream",
     "text": [
      "[[0.43095678 0.2822631  0.1909831  ... 0.5188649  0.52190155 0.44084516]\n",
      " [0.42728958 0.2814571  0.1968593  ... 0.5046881  0.5105387  0.42630908]\n",
      " [0.43661958 0.26880568 0.15934032 ... 0.5583663  0.5586043  0.47606122]\n",
      " ...\n",
      " [0.43076503 0.27683368 0.18245083 ... 0.52441466 0.5282773  0.4444014 ]\n",
      " [0.43496028 0.27568355 0.17299287 ... 0.5426018  0.54388046 0.46256557]\n",
      " [0.4308685  0.27546045 0.17999437 ... 0.52665526 0.53040195 0.44608203]]\n",
      "tf.Tensor([0.02715161 0.01029129 0.01279825 ... 0.01217159 0.02140742 0.01597556], shape=(2359,), dtype=float32)\n"
     ]
    }
   ],
   "source": [
    "print(reconstructions)\n",
    "print(train_loss)"
   ]
  },
  {
   "cell_type": "code",
   "execution_count": 67,
   "metadata": {
    "colab": {
     "base_uri": "https://localhost:8080/",
     "height": 279
    },
    "executionInfo": {
     "elapsed": 741,
     "status": "ok",
     "timestamp": 1625825475708,
     "user": {
      "displayName": "이서영",
      "photoUrl": "",
      "userId": "08706917529998634867"
     },
     "user_tz": -540
    },
    "id": "fD5jeky5v8ZP",
    "outputId": "6f1689f3-4f62-443b-8330-daaa89eb90a8"
   },
   "outputs": [
    {
     "data": {
      "image/png": "[encoded data removed]",
      "text/plain": [
       "<Figure size 432x288 with 1 Axes>"
      ]
     },
     "metadata": {
      "needs_background": "light",
      "tags": []
     },
     "output_type": "display_data"
    }
   ],
   "source": [
    "plt.hist(train_loss, bins=50)\n",
    "plt.xlabel(\"Train loss\")\n",
    "plt.ylabel(\"No of examples\")\n",
    "plt.show()"
   ]
  },
  {
   "cell_type": "code",
   "execution_count": 68,
   "metadata": {
    "colab": {
     "base_uri": "https://localhost:8080/"
    },
    "executionInfo": {
     "elapsed": 248,
     "status": "ok",
     "timestamp": 1625825532010,
     "user": {
      "displayName": "이서영",
      "photoUrl": "",
      "userId": "08706917529998634867"
     },
     "user_tz": -540
    },
    "id": "V1ebX2v0v_gm",
    "outputId": "ddc6cba6-a725-4673-aed2-3d75d19900d4"
   },
   "outputs": [
    {
     "name": "stdout",
     "output_type": "stream",
     "text": [
      "THRESHOLD :  0.026971273\n"
     ]
    }
   ],
   "source": [
    "threshold = np.mean(train_loss) + np.std(train_loss)\n",
    "print(\"THRESHOLD : \", threshold)"
   ]
  },
  {
   "cell_type": "code",
   "execution_count": 69,
   "metadata": {
    "executionInfo": {
     "elapsed": 251,
     "status": "ok",
     "timestamp": 1625825643825,
     "user": {
      "displayName": "이서영",
      "photoUrl": "",
      "userId": "08706917529998634867"
     },
     "user_tz": -540
    },
    "id": "vuPW5-8YwNQ_"
   },
   "outputs": [],
   "source": [
    "reconstructions = auto_encoder.predict(anomalous_test_data)\n",
    "test_loss = tf.keras.losses.mae(reconstructions, anomalous_test_data)"
   ]
  },
  {
   "cell_type": "code",
   "execution_count": 70,
   "metadata": {
    "colab": {
     "base_uri": "https://localhost:8080/",
     "height": 279
    },
    "executionInfo": {
     "elapsed": 730,
     "status": "ok",
     "timestamp": 1625825651240,
     "user": {
      "displayName": "이서영",
      "photoUrl": "",
      "userId": "08706917529998634867"
     },
     "user_tz": -540
    },
    "id": "k-8tRhvBworI",
    "outputId": "816c226e-0fb4-494e-e158-ce4116397cc0"
   },
   "outputs": [
    {
     "data": {
      "image/png": "[encoded data removed]",
      "text/plain": [
       "<Figure size 432x288 with 1 Axes>"
      ]
     },
     "metadata": {
      "needs_background": "light",
      "tags": []
     },
     "output_type": "display_data"
    }
   ],
   "source": [
    "plt.hist(test_loss, bins=50)\n",
    "plt.xlabel(\"Test loss\")\n",
    "plt.ylabel(\"No of examples\")\n",
    "plt.show()"
   ]
  },
  {
   "cell_type": "code",
   "execution_count": 71,
   "metadata": {
    "executionInfo": {
     "elapsed": 415,
     "status": "ok",
     "timestamp": 1625825706861,
     "user": {
      "displayName": "이서영",
      "photoUrl": "",
      "userId": "08706917529998634867"
     },
     "user_tz": -540
    },
    "id": "tK0esZoTwqV_"
   },
   "outputs": [],
   "source": [
    "def predict(model, data, threshold):\n",
    "  reconstructions = model(data)\n",
    "  loss = tf.keras.losses.mae(reconstructions, data)\n",
    "  return tf.math.less(loss, threshold) #Returns the truth value of (x < y) element-wise."
   ]
  },
  {
   "cell_type": "code",
   "execution_count": 72,
   "metadata": {
    "executionInfo": {
     "elapsed": 246,
     "status": "ok",
     "timestamp": 1625825773368,
     "user": {
      "displayName": "이서영",
      "photoUrl": "",
      "userId": "08706917529998634867"
     },
     "user_tz": -540
    },
    "id": "GqNUSxnIw4Af"
   },
   "outputs": [],
   "source": [
    "def print_stats(predictions, labels):\n",
    "  print(\"ACC = {}\".format(accuracy_score(labels, preds)))\n",
    "  print(\"PRECISION = {}\".format(precision_score(labels, preds)))\n",
    "  print(\"RECALL = {}\".format(recall_score(labels, preds)))"
   ]
  },
  {
   "cell_type": "code",
   "execution_count": 73,
   "metadata": {
    "colab": {
     "base_uri": "https://localhost:8080/"
    },
    "executionInfo": {
     "elapsed": 258,
     "status": "ok",
     "timestamp": 1625825808955,
     "user": {
      "displayName": "이서영",
      "photoUrl": "",
      "userId": "08706917529998634867"
     },
     "user_tz": -540
    },
    "id": "8K0waRIKxITH",
    "outputId": "90294387-17f7-40f7-e76f-e108341cd96c"
   },
   "outputs": [
    {
     "name": "stdout",
     "output_type": "stream",
     "text": [
      "ACC = 0.941\n",
      "PRECISION = 0.9940828402366864\n",
      "RECALL = 0.9\n"
     ]
    }
   ],
   "source": [
    "preds = predict(auto_encoder, test_data, threshold)\n",
    "print_stats(preds, test_labels)"
   ]
  }
 ],
 "metadata": {
  "accelerator": "GPU",
  "colab": {
   "authorship_tag": "ABX9TyObPTv5J9ylkuz3PU4jHDar",
   "collapsed_sections": [],
   "machine_shape": "hm",
   "name": "tf_tuto_ecg_AE.ipynb",
   "provenance": []
  },
  "kernelspec": {
   "display_name": "Python 3",
   "language": "python",
   "name": "python3"
  },
  "language_info": {
   "codemirror_mode": {
    "name": "ipython",
    "version": 3
   },
   "file_extension": ".py",
   "mimetype": "text/x-python",
   "name": "python",
   "nbconvert_exporter": "python",
   "pygments_lexer": "ipython3",
   "version": "3.8.5"
  }
 },
 "nbformat": 4,
 "nbformat_minor": 1
}
