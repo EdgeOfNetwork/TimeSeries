{
 "cells": [
  {
   "cell_type": "markdown",
   "metadata": {},
   "source": [
    "1 Day 1 Commit을 하려 했는데  \n",
    "  \n",
    "  \n",
    "하루 종일 논문을 읽는 등, 코딩을 하지 않는 순간이 있더라  \n",
    "리드미 바꾸는건 이제 양심에 너무 찔리고,  \n",
    "  \n",
    "그럴꺼면 차라리 여기다가 내가 뭘 배웠는지 업데이트를 하도록 하자  \n",
    "  \n",
    "  \n",
    "연구일지 작성을 업데이트하는 것이다."
   ]
  },
  {
   "cell_type": "code",
   "execution_count": null,
   "metadata": {},
   "outputs": [],
   "source": []
  }
 ],
 "metadata": {
  "kernelspec": {
   "display_name": "Python 3",
   "language": "python",
   "name": "python3"
  },
  "language_info": {
   "codemirror_mode": {
    "name": "ipython",
    "version": 3
   },
   "file_extension": ".py",
   "mimetype": "text/x-python",
   "name": "python",
   "nbconvert_exporter": "python",
   "pygments_lexer": "ipython3",
   "version": "3.8.5"
  }
 },
 "nbformat": 4,
 "nbformat_minor": 4
}
